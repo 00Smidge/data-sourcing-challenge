{
 "cells": [
  {
   "cell_type": "code",
   "execution_count": null,
   "metadata": {},
   "outputs": [],
   "source": [
    "import subprocess\n",
    "\n",
    "# # Step 1: Run cme_data.py\n",
    "print(\"Running cme_data.py...\")\n",
    "subprocess.run([\"python3\", \"scripts/cme_data.py\"], check=True)\n",
    "\n",
    "# Step 2: Run gst_data.py\n",
    "print(\"Running gst_data.py...\")\n",
    "subprocess.run([\"python3\", \"scripts/gst_data.py\"], check=True)\n",
    "\n",
    "# Step 3: Run merge_data.py\n",
    "print(\"Running merge_data.py...\")\n",
    "subprocess.run([\"python3\", \"scripts/merge_data.py\"], check=True)\n",
    "\n",
    "print(\"All scripts have been executed successfully!\")"
   ]
  },
  {
   "cell_type": "code",
   "execution_count": null,
   "metadata": {},
   "outputs": [],
   "source": []
  }
 ],
 "metadata": {
  "kernelspec": {
   "display_name": "base",
   "language": "python",
   "name": "python3"
  },
  "language_info": {
   "codemirror_mode": {
    "name": "ipython",
    "version": 3
   },
   "file_extension": ".py",
   "mimetype": "text/x-python",
   "name": "python",
   "nbconvert_exporter": "python",
   "pygments_lexer": "ipython3",
   "version": "3.12.2"
  }
 },
 "nbformat": 4,
 "nbformat_minor": 2
}
