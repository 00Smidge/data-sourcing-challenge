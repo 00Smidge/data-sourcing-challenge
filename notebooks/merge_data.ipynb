{
	"cells": [
		{
			"cell_type": "markdown",
			"metadata": {},
			"source": [
				"### Import Required Libraries and Set Up Environment Variables"
			]
		},
		{
			"cell_type": "code",
			"execution_count": 1,
			"metadata": {},
			"outputs": [],
			"source": [
				"# Dependencies\n",
				"import os\n",
				"import pandas as pd\n",
				"from dotenv import load_dotenv\n",
				"from datetime import datetime\n",
				"\n",
				"# project service file for housing python functions\n",
				"from services import services\n",
				"\n",
				"## Load the NASA_API_KEY from the env file\n",
				"load_dotenv()\n",
				"NASA_API_KEY = os.getenv(\"NASA_API_KEY\")"
			]
		},
		{
			"cell_type": "markdown",
			"metadata": {},
			"source": []
		},
		{
			"cell_type": "markdown",
			"metadata": {},
			"source": [
				"### Merge both datatsets"
			]
		},
		{
			"cell_type": "code",
			"execution_count": null,
			"metadata": {},
			"outputs": [],
			"source": [
				"# Now merge both datasets using 'gstID' and 'CME_ActivityID' for gst and 'GST_ActivityID' and 'cmeID' for cme. Use the 'left_on' and 'right_on' specifiers.\n",
				"\n",
				"# gstID & CME_ActivityID: gst\n",
				"# cmeID & GST_Activity_ID: cme\n",
				"\n",
				"merge_result = pd.merge(clean_df, clean_df, left_on='gstID', right_on='cmeID', how='left')\n"
			]
		},
		{
			"cell_type": "code",
			"execution_count": 20,
			"metadata": {},
			"outputs": [],
			"source": [
				"# Verify that the new DataFrame has the same number of rows as cme and gst\n"
			]
		},
		{
			"cell_type": "markdown",
			"metadata": {},
			"source": [
				"### Computing the time it takes for a CME to cause a GST"
			]
		},
		{
			"cell_type": "code",
			"execution_count": 21,
			"metadata": {},
			"outputs": [],
			"source": [
				"# Compute the time diff between startTime_GST and startTime_CME by creating a new column called `timeDiff`.\n"
			]
		},
		{
			"cell_type": "code",
			"execution_count": 22,
			"metadata": {},
			"outputs": [],
			"source": [
				"# Use describe() to compute the mean and median time \n",
				"# that it takes for a CME to cause a GST. \n"
			]
		},
		{
			"cell_type": "markdown",
			"metadata": {},
			"source": [
				"### Exporting data in csv format"
			]
		},
		{
			"cell_type": "code",
			"execution_count": 23,
			"metadata": {},
			"outputs": [],
			"source": [
				"# Export data to CSV without the index\n"
			]
		}
	],
	"metadata": {
		"kernelspec": {
			"display_name": "Python 3 (ipykernel)",
			"language": "python",
			"name": "python3"
		},
		"language_info": {
			"codemirror_mode": {
				"name": "ipython",
				"version": 3
			},
			"file_extension": ".py",
			"mimetype": "text/x-python",
			"name": "python",
			"nbconvert_exporter": "python",
			"pygments_lexer": "ipython3",
			"version": "3.12.2"
		},
		"varInspector": {
			"cols": {
				"lenName": 16,
				"lenType": 16,
				"lenVar": 40
			},
			"kernels_config": {
				"python": {
					"delete_cmd_postfix": "",
					"delete_cmd_prefix": "del ",
					"library": "var_list.py",
					"varRefreshCmd": "print(var_dic_list())"
				},
				"r": {
					"delete_cmd_postfix": ") ",
					"delete_cmd_prefix": "rm(",
					"library": "var_list.r",
					"varRefreshCmd": "cat(var_dic_list()) "
				}
			},
			"types_to_exclude": [
				"module",
				"function",
				"builtin_function_or_method",
				"instance",
				"_Feature"
			],
			"window_display": false
		}
	},
	"nbformat": 4,
	"nbformat_minor": 4
}