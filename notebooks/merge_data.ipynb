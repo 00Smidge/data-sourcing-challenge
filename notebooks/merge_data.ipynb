{
	"cells": [
		{
			"cell_type": "markdown",
			"metadata": {},
			"source": [
				"### Import Required Libraries and Set Up Environment Variables"
			]
		},
		{
			"cell_type": "code",
			"execution_count": 114,
			"metadata": {},
			"outputs": [],
			"source": [
				"# Dependencies\n",
				"import pandas as pd"
			]
		},
		{
			"cell_type": "markdown",
			"metadata": {},
			"source": []
		},
		{
			"cell_type": "markdown",
			"metadata": {},
			"source": [
				"### Merge both datatsets"
			]
		},
		{
			"cell_type": "code",
			"execution_count": 115,
			"metadata": {},
			"outputs": [],
			"source": [
				"ctg_csv = pd.read_csv(\"data/composed/cme_to_gst_events.csv\")\n",
				"gtc_csv = pd.read_csv(\"data/composed/gst_to_cme_events.csv\")\n",
				"ctg_df = pd.DataFrame(ctg_csv)\n",
				"gtc_df = pd.DataFrame(gtc_csv)"
			]
		},
		{
			"cell_type": "code",
			"execution_count": null,
			"metadata": {},
			"outputs": [],
			"source": [
				"ctg_df.sample(n=5)"
			]
		},
		{
			"cell_type": "code",
			"execution_count": null,
			"metadata": {},
			"outputs": [],
			"source": [
				"gtc_df.sample(n=5)"
			]
		},
		{
			"cell_type": "code",
			"execution_count": 118,
			"metadata": {},
			"outputs": [],
			"source": [
				"# Now merge both datasets using 'gstID' and 'CME_ActivityID' for gst and 'GST_ActivityID' and 'cmeID' for cme. Use the 'left_on' and 'right_on' specifiers.\n",
				"\n",
				"# gstID & CME_ActivityID: gst\n",
				"# cmeID & GST_ActivityID: cme\n",
				"\n",
				"ctg_df[\"cme\"] = ctg_df[\"cmeID\"] + \"-\" + ctg_df[\"CME_ActivityID\"]\n",
				"gtc_df[\"gst\"] = gtc_df[\"gstID\"] + \"-\" + gtc_df[\"GST_ActivityID\"]"
			]
		},
		{
			"cell_type": "code",
			"execution_count": null,
			"metadata": {},
			"outputs": [],
			"source": [
				"# Verify that the new DataFrame has the same number of rows as cme and gst\n",
				"gtc_df.info()\n",
				"gtc_df.isna().sum()"
			]
		},
		{
			"cell_type": "code",
			"execution_count": null,
			"metadata": {},
			"outputs": [],
			"source": [
				"ctg_df.info()\n",
				"ctg_df.isna().sum()"
			]
		},
		{
			"cell_type": "code",
			"execution_count": null,
			"metadata": {},
			"outputs": [],
			"source": [
				"merge_result = pd.merge(\n",
				"    gtc_df,\n",
				"    ctg_df,\n",
				"    left_on=\"gst\",\n",
				"    right_on=\"cme\",\n",
				"    how=\"outer\",\n",
				")\n",
				"merge_result = merge_result.fillna(method=\"ffill\")"
			]
		},
		{
			"cell_type": "code",
			"execution_count": null,
			"metadata": {},
			"outputs": [],
			"source": [
				"merge_result.sample(n=5)"
			]
		},
		{
			"cell_type": "markdown",
			"metadata": {},
			"source": [
				"### Computing the time it takes for a CME to cause a GST"
			]
		},
		{
			"cell_type": "code",
			"execution_count": null,
			"metadata": {},
			"outputs": [],
			"source": [
				"merge_result.dropna(how=\"any\")\n",
				"merge_result.sample(n=5)"
			]
		},
		{
			"cell_type": "code",
			"execution_count": 124,
			"metadata": {},
			"outputs": [],
			"source": [
				"# Compute the time diff between startTime_GST and startTime_CME by creating a new column called `timeDiff`.\n",
				"merge_result.startTime_GST = pd.to_datetime(merge_result.startTime_GST)\n",
				"merge_result.startTime_CME = pd.to_datetime(merge_result.startTime_CME)"
			]
		},
		{
			"cell_type": "code",
			"execution_count": 132,
			"metadata": {},
			"outputs": [],
			"source": [
				"merge_result[\"timeDiff\"] = merge_result[\"startTime_CME\"] - merge_result[\"startTime_GST\"]"
			]
		},
		{
			"cell_type": "code",
			"execution_count": null,
			"metadata": {},
			"outputs": [],
			"source": [
				"merge_result.sample(n=5)"
			]
		},
		{
			"cell_type": "code",
			"execution_count": null,
			"metadata": {},
			"outputs": [],
			"source": [
				"# Use describe() to compute the mean and median time\n",
				"# that it takes for a CME to cause a GST.\n",
				"merge_result.describe()"
			]
		},
		{
			"cell_type": "markdown",
			"metadata": {},
			"source": [
				"### Exporting data in csv format"
			]
		},
		{
			"cell_type": "code",
			"execution_count": 135,
			"metadata": {},
			"outputs": [],
			"source": [
				"# Export data to CSV without the index\n",
				"merge_result.to_csv(\"data/composed/gst_cme_merged.csv\", index=False)"
			]
		},
		{
			"cell_type": "code",
			"execution_count": null,
			"metadata": {},
			"outputs": [],
			"source": []
		}
	],
	"metadata": {
		"kernelspec": {
			"display_name": "Python 3 (ipykernel)",
			"language": "python",
			"name": "python3"
		},
		"language_info": {
			"codemirror_mode": {
				"name": "ipython",
				"version": 3
			},
			"file_extension": ".py",
			"mimetype": "text/x-python",
			"name": "python",
			"nbconvert_exporter": "python",
			"pygments_lexer": "ipython3",
			"version": "3.12.2"
		},
		"varInspector": {
			"cols": {
				"lenName": 16,
				"lenType": 16,
				"lenVar": 40
			},
			"kernels_config": {
				"python": {
					"delete_cmd_postfix": "",
					"delete_cmd_prefix": "del ",
					"library": "var_list.py",
					"varRefreshCmd": "print(var_dic_list())"
				},
				"r": {
					"delete_cmd_postfix": ") ",
					"delete_cmd_prefix": "rm(",
					"library": "var_list.r",
					"varRefreshCmd": "cat(var_dic_list()) "
				}
			},
			"types_to_exclude": [
				"module",
				"function",
				"builtin_function_or_method",
				"instance",
				"_Feature"
			],
			"window_display": false
		}
	},
	"nbformat": 4,
	"nbformat_minor": 4
}
